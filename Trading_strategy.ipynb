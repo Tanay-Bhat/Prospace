{
 "cells": [
  {
   "cell_type": "code",
   "execution_count": 6,
   "metadata": {},
   "outputs": [],
   "source": [
    "import numpy as np\n",
    "import pandas as pd\n",
    "import matplotlib.pyplot as plt\n",
    "import seaborn as sns"
   ]
  },
  {
   "cell_type": "code",
   "execution_count": 7,
   "metadata": {},
   "outputs": [],
   "source": [
    "class Static_Threshold:\n",
    "    def __init__(self, build_threshold, liquidate_threshold):\n",
    "        self.build_threshold = build_threshold\n",
    "        self.liquidate_threshold = liquidate_threshold\n",
    "        self.position = 0\n",
    "\n",
    "    def generate_positions(self, df):\n",
    "        for i in range(1, len(df)):\n",
    "            alpha_prev = df.loc[i-1, 'alpha']\n",
    "            alpha_curr = df.loc[i, 'alpha']\n",
    "\n",
    "            if self.position == 0:\n",
    "                if alpha_curr >= self.build_threshold and alpha_prev < self.build_threshold:\n",
    "                    self.position = 1\n",
    "                elif alpha_curr <= -self.build_threshold and alpha_prev > -self.build_threshold:\n",
    "                    self.position = -1\n",
    "                    \n",
    "            elif self.position == 1:\n",
    "                if alpha_curr <= self.liquidate_threshold and alpha_prev > self.liquidate_threshold:\n",
    "                    self.position = 0\n",
    "\n",
    "            elif self.position == -1:\n",
    "                if alpha_curr >= -self.liquidate_threshold and alpha_prev < -self.liquidate_threshold:\n",
    "                    self.position = 0\n",
    "\n",
    "            df.loc[i, 'position'] = self.position\n",
    "        \n",
    "        return df\n",
    "    \n",
    "\n",
    "class Backtest:\n",
    "    def __init__(self, df):\n",
    "        self.df = df\n",
    "\n",
    "    def backtest(self):\n",
    "        pnl = [0]\n",
    "        curr_pnl = 0\n",
    "\n",
    "        for i in range(1, len(self.df)):\n",
    "            \n",
    "            curr_pnl += self.df.loc[i, 'position'] * (self.df.loc[i, 'price'] - self.df.loc[i-1, 'price'])\n",
    "            pnl.append(curr_pnl)\n",
    "\n",
    "        self.df['pnl'] = pnl    \n",
    "\n",
    "        return self.df, curr_pnl\n",
    "    \n",
    "    def plot(self):\n",
    "        plt.plot(self.df['serial_num'], self.df['pnl'], color='blue', label='PnL')\n",
    "        plt.xlabel('Time')\n",
    "        plt.ylabel('PnL')\n",
    "        plt.legend()\n",
    "        plt.grid(True)\n",
    "        plt.show()\n",
    "\n",
    "    \n",
    "\n",
    "class optimizer:\n",
    "    def __init__(self, df, BT_lb, BT_ub, LT_lb, LT_ub, step_size):\n",
    "        self.df = df\n",
    "        self.BT_lb = BT_lb\n",
    "        self.BT_ub = BT_ub\n",
    "        self.LT_lb = LT_lb\n",
    "        self.LT_ub = LT_ub\n",
    "        self.step_size = step_size\n",
    "\n",
    "    def optimize(self):\n",
    "        max_pnl = [0]\n",
    "        best_build_threshold = [0]\n",
    "        best_liquidate_threshold = [0]\n",
    "\n",
    "        for build_threshold in np.arange(self.BT_lb, self.BT_ub, self.step_size):\n",
    "            for liquidate_threshold in np.arange(self.LT_lb, self.LT_ub, self.step_size):\n",
    "                st = Static_Threshold(build_threshold, liquidate_threshold)\n",
    "                df = st.generate_positions(self.df)\n",
    "                bt = Backtest(df)\n",
    "                df, pnl = bt.backtest()\n",
    "\n",
    "                if pnl > max_pnl[-1]:\n",
    "                    max_pnl.append(pnl)\n",
    "                    best_build_threshold.append(build_threshold)\n",
    "                    best_liquidate_threshold.append(liquidate_threshold)\n",
    "\n",
    "        return pd.DataFrame({'max_pnl': max_pnl, 'best_build_threshold': best_build_threshold, 'best_liquidate_threshold': best_liquidate_threshold})\n",
    "\n"
   ]
  },
  {
   "cell_type": "code",
   "execution_count": 8,
   "metadata": {},
   "outputs": [
    {
     "name": "stdout",
     "output_type": "stream",
     "text": [
      "Final PnL: 18814.00402904659\n"
     ]
    },
    {
     "data": {
      "image/png": "[encoded data removed]",
      "text/plain": [
       "<Figure size 640x480 with 1 Axes>"
      ]
     },
     "metadata": {},
     "output_type": "display_data"
    }
   ],
   "source": [
    "df = pd.read_csv('asset_1.csv')\n",
    "\n",
    "Build_threshold = 0.51\n",
    "Liquidate_threshold = 0.01\n",
    "\n",
    "strategy = Static_Threshold(Build_threshold, Liquidate_threshold)\n",
    "df_update = strategy.generate_positions(df)\n",
    "\n",
    "engine = Backtest(df_update)\n",
    "df_final, pnl = engine.backtest()\n",
    "\n",
    "print('Final PnL:', pnl)\n",
    "engine.plot()"
   ]
  },
  {
   "cell_type": "code",
   "execution_count": 9,
   "metadata": {},
   "outputs": [],
   "source": [
    "BT_LB = 0.5\n",
    "BT_UB = 1\n",
    "LT_LB = 0.5\n",
    "LT_UB = 1\n",
    "step_size = 0.05\n",
    "\n",
    "opt = optimizer(df, BT_LB, BT_UB, LT_LB, LT_UB, step_size)\n",
    "pnl_df = opt.optimize()"
   ]
  },
  {
   "cell_type": "code",
   "execution_count": 10,
   "metadata": {},
   "outputs": [
    {
     "data": {
      "text/html": [
       "<div>\n",
       "<style scoped>\n",
       "    .dataframe tbody tr th:only-of-type {\n",
       "        vertical-align: middle;\n",
       "    }\n",
       "\n",
       "    .dataframe tbody tr th {\n",
       "        vertical-align: top;\n",
       "    }\n",
       "\n",
       "    .dataframe thead th {\n",
       "        text-align: right;\n",
       "    }\n",
       "</style>\n",
       "<table border=\"1\" class=\"dataframe\">\n",
       "  <thead>\n",
       "    <tr style=\"text-align: right;\">\n",
       "      <th></th>\n",
       "      <th>max_pnl</th>\n",
       "      <th>best_build_threshold</th>\n",
       "      <th>best_liquidate_threshold</th>\n",
       "    </tr>\n",
       "  </thead>\n",
       "  <tbody>\n",
       "    <tr>\n",
       "      <th>0</th>\n",
       "      <td>0.000000</td>\n",
       "      <td>0.0</td>\n",
       "      <td>0.0</td>\n",
       "    </tr>\n",
       "    <tr>\n",
       "      <th>1</th>\n",
       "      <td>12544.983273</td>\n",
       "      <td>0.5</td>\n",
       "      <td>0.5</td>\n",
       "    </tr>\n",
       "  </tbody>\n",
       "</table>\n",
       "</div>"
      ],
      "text/plain": [
       "        max_pnl  best_build_threshold  best_liquidate_threshold\n",
       "0      0.000000                   0.0                       0.0\n",
       "1  12544.983273                   0.5                       0.5"
      ]
     },
     "execution_count": 10,
     "metadata": {},
     "output_type": "execute_result"
    }
   ],
   "source": [
    "pnl_df"
   ]
  },
  {
   "cell_type": "code",
   "execution_count": null,
   "metadata": {},
   "outputs": [],
   "source": []
  },
  {
   "cell_type": "code",
   "execution_count": null,
   "metadata": {},
   "outputs": [],
   "source": []
  }
 ],
 "metadata": {
  "kernelspec": {
   "display_name": "Python 3",
   "language": "python",
   "name": "python3"
  },
  "language_info": {
   "codemirror_mode": {
    "name": "ipython",
    "version": 3
   },
   "file_extension": ".py",
   "mimetype": "text/x-python",
   "name": "python",
   "nbconvert_exporter": "python",
   "pygments_lexer": "ipython3",
   "version": "3.12.3"
  }
 },
 "nbformat": 4,
 "nbformat_minor": 2
}
